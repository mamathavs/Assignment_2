{
 "cells": [
  {
   "cell_type": "code",
   "execution_count": 1,
   "metadata": {},
   "outputs": [
    {
     "name": "stdout",
     "output_type": "stream",
     "text": [
      "acadgildacadgildacadgildacadgildacadgild\n"
     ]
    }
   ],
   "source": [
    "#1) Define a lambda function: echo_name\n",
    "echo_name = (lambda name1, echo: name1*echo)\n",
    "# Call echo_name with parameters (\"acadgild\",5)\n",
    "result = echo_name (\"acadgild\",5)\n",
    "\n",
    "# Print result\n",
    "print(result)"
   ]
  },
  {
   "cell_type": "code",
   "execution_count": 2,
   "metadata": {},
   "outputs": [
    {
     "name": "stdout",
     "output_type": "stream",
     "text": [
      "[120.56, 79.7, 117.14, 118.03999999999999]\n"
     ]
    }
   ],
   "source": [
    "#2) Convert temperature in Celsius to Fahrenheit using map() and lambda\n",
    "functions\n",
    "Celsius = [49.2, 26.5, 47.3, 47.8]\n",
    "#use map() and lambda,convert to Fahrenheit\n",
    "#map(function,list)\n",
    "Fahrenheit = list(map(lambda x: 9/5*x+32,Celsius\n",
    "#print Fahrenheit\n",
    "print(Fahrenheit)"
   ]
  },
  {
   "cell_type": "code",
   "execution_count": 12,
   "metadata": {},
   "outputs": [
    {
     "name": "stdout",
     "output_type": "stream",
     "text": [
      "['e', 'o', 'e', 'o', 'A', 'a', 'i']\n"
     ]
    }
   ],
   "source": [
    "#3) The function filter(function, list) filters out all the elements of a list, for which the function function returns True.\n",
    "sample_string = \"Welcome to AcadGild\"\n",
    "\n",
    "vowels = \"aeiouAEIOU\"\n",
    "finalVowel = []\n",
    "\n",
    "isVowel = lambda arg: arg in vowels\n",
    "\n",
    "def vowelFilter(sample_string):\n",
    "    for letter in sample_string:\n",
    "        if isVowel(letter):\n",
    "            finalVowel.append(letter)\n",
    "    return finalVowel\n",
    "\n",
    "print (vowelFilter(sample_string))"
   ]
  },
  {
   "cell_type": "code",
   "execution_count": 13,
   "metadata": {},
   "outputs": [
    {
     "name": "stdout",
     "output_type": "stream",
     "text": [
      "WelcometoacadGild\n"
     ]
    }
   ],
   "source": [
    "#4) Use generator expression to print out only alphabets from the following string\n",
    "def my_gen(input):\n",
    "    for letter in input:\n",
    "        if letter.isalpha():\n",
    "            yield letter\n",
    "\n",
    "output = ''\n",
    "\n",
    "for alphabet in my_gen(\"123@Welc34ometo12@ac#adGild\"):\n",
    "      output += alphabet\n",
    "\n",
    "print(output)"
   ]
  },
  {
   "cell_type": "code",
   "execution_count": 18,
   "metadata": {},
   "outputs": [
    {
     "name": "stdout",
     "output_type": "stream",
     "text": [
      "['Feburary']\n"
     ]
    }
   ],
   "source": [
    "#5) Implement a function longestWord() that takes a list of words and returns the longest one.\n",
    "\n",
    "def wordLength(word):\n",
    "    return len(word)\n",
    "\n",
    "def longestWord(words):\n",
    "    max_len = len(max(words,key=wordLength))\n",
    "    return [x for x in words if len(x) == max_len]\n",
    "\n",
    "words= [\"January\",\"Feburary\",\"March\",\"April\",\"May\",\"June\",\"July\"]\n",
    "print (longestWord(words))"
   ]
  },
  {
   "cell_type": "code",
   "execution_count": null,
   "metadata": {},
   "outputs": [],
   "source": []
  }
 ],
 "metadata": {
  "kernelspec": {
   "display_name": "Python 3",
   "language": "python",
   "name": "python3"
  },
  "language_info": {
   "codemirror_mode": {
    "name": "ipython",
    "version": 3
   },
   "file_extension": ".py",
   "mimetype": "text/x-python",
   "name": "python",
   "nbconvert_exporter": "python",
   "pygments_lexer": "ipython3",
   "version": "3.7.0"
  }
 },
 "nbformat": 4,
 "nbformat_minor": 2
}
